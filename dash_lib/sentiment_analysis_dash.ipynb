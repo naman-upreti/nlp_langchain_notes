{
 "cells": [
  {
   "cell_type": "markdown",
   "id": "60854e92-5c0a-4f7b-8ca6-1bff7416be60",
   "metadata": {},
   "source": [
    "# Step 1: Load the Dataset\n",
    "\n",
    "### Let's start by importing the necessary libraries and loading the dataset."
   ]
  },
  {
   "cell_type": "code",
   "execution_count": 77,
   "id": "7eab6080-8d86-41e1-9d77-3bb243024b2c",
   "metadata": {},
   "outputs": [
    {
     "name": "stdout",
     "output_type": "stream",
     "text": [
      "Requirement already satisfied: nltk in c:\\users\\naman\\anaconda3\\lib\\site-packages (3.9.1)\n",
      "Requirement already satisfied: click in c:\\users\\naman\\anaconda3\\lib\\site-packages (from nltk) (8.1.7)\n",
      "Requirement already satisfied: joblib in c:\\users\\naman\\anaconda3\\lib\\site-packages (from nltk) (1.4.2)\n",
      "Requirement already satisfied: regex>=2021.8.3 in c:\\users\\naman\\anaconda3\\lib\\site-packages (from nltk) (2024.9.11)\n",
      "Requirement already satisfied: tqdm in c:\\users\\naman\\anaconda3\\lib\\site-packages (from nltk) (4.66.5)\n",
      "Requirement already satisfied: colorama in c:\\users\\naman\\appdata\\roaming\\python\\python312\\site-packages (from click->nltk) (0.4.6)\n"
     ]
    }
   ],
   "source": [
    "!pip install --upgrade nltk\n",
    "\n"
   ]
  },
  {
   "cell_type": "code",
   "execution_count": 78,
   "id": "d092e059-8e57-4ce6-a55a-6c0679157e79",
   "metadata": {},
   "outputs": [],
   "source": [
    "\n",
    "import pandas as pd \n",
    "\n",
    "df = pd.read_csv(\"sentiment_dataset_large.csv\")\n"
   ]
  },
  {
   "cell_type": "code",
   "execution_count": 79,
   "id": "862a8f8f-d290-41c7-a69e-2279b7edab81",
   "metadata": {},
   "outputs": [
    {
     "data": {
      "text/html": [
       "<div>\n",
       "<style scoped>\n",
       "    .dataframe tbody tr th:only-of-type {\n",
       "        vertical-align: middle;\n",
       "    }\n",
       "\n",
       "    .dataframe tbody tr th {\n",
       "        vertical-align: top;\n",
       "    }\n",
       "\n",
       "    .dataframe thead th {\n",
       "        text-align: right;\n",
       "    }\n",
       "</style>\n",
       "<table border=\"1\" class=\"dataframe\">\n",
       "  <thead>\n",
       "    <tr style=\"text-align: right;\">\n",
       "      <th></th>\n",
       "      <th>ID</th>\n",
       "      <th>Text</th>\n",
       "      <th>Sentiment</th>\n",
       "    </tr>\n",
       "  </thead>\n",
       "  <tbody>\n",
       "    <tr>\n",
       "      <th>0</th>\n",
       "      <td>1</td>\n",
       "      <td>A total waste of money, do not buy this.</td>\n",
       "      <td>Negative</td>\n",
       "    </tr>\n",
       "    <tr>\n",
       "      <th>1</th>\n",
       "      <td>2</td>\n",
       "      <td>I absolutely love this product, it works great!</td>\n",
       "      <td>Positive</td>\n",
       "    </tr>\n",
       "    <tr>\n",
       "      <th>2</th>\n",
       "      <td>3</td>\n",
       "      <td>This was a terrible experience, I regret it co...</td>\n",
       "      <td>Negative</td>\n",
       "    </tr>\n",
       "    <tr>\n",
       "      <th>3</th>\n",
       "      <td>4</td>\n",
       "      <td>I absolutely love this product, it works great!</td>\n",
       "      <td>Positive</td>\n",
       "    </tr>\n",
       "    <tr>\n",
       "      <th>4</th>\n",
       "      <td>5</td>\n",
       "      <td>The product is average, works as expected.</td>\n",
       "      <td>Neutral</td>\n",
       "    </tr>\n",
       "    <tr>\n",
       "      <th>...</th>\n",
       "      <td>...</td>\n",
       "      <td>...</td>\n",
       "      <td>...</td>\n",
       "    </tr>\n",
       "    <tr>\n",
       "      <th>995</th>\n",
       "      <td>996</td>\n",
       "      <td>It's okay, nothing special but not bad either.</td>\n",
       "      <td>Neutral</td>\n",
       "    </tr>\n",
       "    <tr>\n",
       "      <th>996</th>\n",
       "      <td>997</td>\n",
       "      <td>It's okay, nothing special but not bad either.</td>\n",
       "      <td>Neutral</td>\n",
       "    </tr>\n",
       "    <tr>\n",
       "      <th>997</th>\n",
       "      <td>998</td>\n",
       "      <td>Poor quality and bad service, not worth the mo...</td>\n",
       "      <td>Negative</td>\n",
       "    </tr>\n",
       "    <tr>\n",
       "      <th>998</th>\n",
       "      <td>999</td>\n",
       "      <td>A total waste of money, do not buy this.</td>\n",
       "      <td>Negative</td>\n",
       "    </tr>\n",
       "    <tr>\n",
       "      <th>999</th>\n",
       "      <td>1000</td>\n",
       "      <td>I absolutely love this product, it works great!</td>\n",
       "      <td>Positive</td>\n",
       "    </tr>\n",
       "  </tbody>\n",
       "</table>\n",
       "<p>1000 rows × 3 columns</p>\n",
       "</div>"
      ],
      "text/plain": [
       "       ID                                               Text Sentiment\n",
       "0       1           A total waste of money, do not buy this.  Negative\n",
       "1       2    I absolutely love this product, it works great!  Positive\n",
       "2       3  This was a terrible experience, I regret it co...  Negative\n",
       "3       4    I absolutely love this product, it works great!  Positive\n",
       "4       5         The product is average, works as expected.   Neutral\n",
       "..    ...                                                ...       ...\n",
       "995   996     It's okay, nothing special but not bad either.   Neutral\n",
       "996   997     It's okay, nothing special but not bad either.   Neutral\n",
       "997   998  Poor quality and bad service, not worth the mo...  Negative\n",
       "998   999           A total waste of money, do not buy this.  Negative\n",
       "999  1000    I absolutely love this product, it works great!  Positive\n",
       "\n",
       "[1000 rows x 3 columns]"
      ]
     },
     "execution_count": 79,
     "metadata": {},
     "output_type": "execute_result"
    }
   ],
   "source": [
    "df"
   ]
  },
  {
   "cell_type": "code",
   "execution_count": 80,
   "id": "479c8b7a-a939-4d53-9028-e5f9ee2de4d3",
   "metadata": {},
   "outputs": [
    {
     "data": {
      "text/html": [
       "<div>\n",
       "<style scoped>\n",
       "    .dataframe tbody tr th:only-of-type {\n",
       "        vertical-align: middle;\n",
       "    }\n",
       "\n",
       "    .dataframe tbody tr th {\n",
       "        vertical-align: top;\n",
       "    }\n",
       "\n",
       "    .dataframe thead th {\n",
       "        text-align: right;\n",
       "    }\n",
       "</style>\n",
       "<table border=\"1\" class=\"dataframe\">\n",
       "  <thead>\n",
       "    <tr style=\"text-align: right;\">\n",
       "      <th></th>\n",
       "      <th>ID</th>\n",
       "      <th>Text</th>\n",
       "      <th>Sentiment</th>\n",
       "    </tr>\n",
       "  </thead>\n",
       "  <tbody>\n",
       "    <tr>\n",
       "      <th>0</th>\n",
       "      <td>1</td>\n",
       "      <td>A total waste of money, do not buy this.</td>\n",
       "      <td>Negative</td>\n",
       "    </tr>\n",
       "    <tr>\n",
       "      <th>1</th>\n",
       "      <td>2</td>\n",
       "      <td>I absolutely love this product, it works great!</td>\n",
       "      <td>Positive</td>\n",
       "    </tr>\n",
       "    <tr>\n",
       "      <th>2</th>\n",
       "      <td>3</td>\n",
       "      <td>This was a terrible experience, I regret it co...</td>\n",
       "      <td>Negative</td>\n",
       "    </tr>\n",
       "    <tr>\n",
       "      <th>3</th>\n",
       "      <td>4</td>\n",
       "      <td>I absolutely love this product, it works great!</td>\n",
       "      <td>Positive</td>\n",
       "    </tr>\n",
       "    <tr>\n",
       "      <th>4</th>\n",
       "      <td>5</td>\n",
       "      <td>The product is average, works as expected.</td>\n",
       "      <td>Neutral</td>\n",
       "    </tr>\n",
       "  </tbody>\n",
       "</table>\n",
       "</div>"
      ],
      "text/plain": [
       "   ID                                               Text Sentiment\n",
       "0   1           A total waste of money, do not buy this.  Negative\n",
       "1   2    I absolutely love this product, it works great!  Positive\n",
       "2   3  This was a terrible experience, I regret it co...  Negative\n",
       "3   4    I absolutely love this product, it works great!  Positive\n",
       "4   5         The product is average, works as expected.   Neutral"
      ]
     },
     "execution_count": 80,
     "metadata": {},
     "output_type": "execute_result"
    }
   ],
   "source": [
    "df.head()"
   ]
  },
  {
   "cell_type": "markdown",
   "id": "b5f8dbfc-a5a4-4154-9826-aea02451dde3",
   "metadata": {},
   "source": [
    "## Step 2: Text Preprocessing for NLP  \n",
    "Before performing sentiment analysis, we clean the text using NLP techniques:\n",
    "\n",
    "- Tokenization: Splitting text into individual words  \n",
    "- Lemmatization: Converting words to their base form  \n",
    "- Removing Stopwords: Eliminating common words that don’t contribute meaning  \n",
    "- Vectorization: Transforming text into the numerical format"
   ]
  },
  {
   "cell_type": "code",
   "execution_count": 81,
   "id": "54543c6b-275f-4700-90ab-225e6b402945",
   "metadata": {},
   "outputs": [],
   "source": [
    "import nltk \n",
    "from nltk.tokenize import word_tokenize\n",
    "from nltk.corpus import stopwords\n",
    "from nltk.stem import WordNetLemmatizer\n",
    "import string \n",
    "\n",
    "\n"
   ]
  },
  {
   "cell_type": "code",
   "execution_count": 82,
   "id": "2a97a994-df21-4bf6-9572-b6911d078d7f",
   "metadata": {},
   "outputs": [
    {
     "data": {
      "text/plain": [
       "<WordNetLemmatizer>"
      ]
     },
     "execution_count": 82,
     "metadata": {},
     "output_type": "execute_result"
    }
   ],
   "source": [
    "stop_words = set(stopwords.words(\"english\"))\n",
    "\n",
    "lemmatizer = WordNetLemmatizer()\n",
    "\n",
    "lemmatizer\n"
   ]
  },
  {
   "cell_type": "code",
   "execution_count": 83,
   "id": "af416b35-94f4-4bfa-8c74-48bcf9070a59",
   "metadata": {},
   "outputs": [],
   "source": [
    "def preprocess_text(text):\n",
    "    tokens = word_tokenize(text.lower())\n",
    "\n",
    "    tokens = [lemmatizer.lemmatize(word) for word in tokens if word not in stop_words and word not in string.punctuation]\n",
    "    return \" \".join(tokens)"
   ]
  },
  {
   "cell_type": "code",
   "execution_count": 84,
   "id": "d41922ef-27fa-42c8-b4ee-675fb4a2591f",
   "metadata": {},
   "outputs": [
    {
     "data": {
      "text/html": [
       "<div>\n",
       "<style scoped>\n",
       "    .dataframe tbody tr th:only-of-type {\n",
       "        vertical-align: middle;\n",
       "    }\n",
       "\n",
       "    .dataframe tbody tr th {\n",
       "        vertical-align: top;\n",
       "    }\n",
       "\n",
       "    .dataframe thead th {\n",
       "        text-align: right;\n",
       "    }\n",
       "</style>\n",
       "<table border=\"1\" class=\"dataframe\">\n",
       "  <thead>\n",
       "    <tr style=\"text-align: right;\">\n",
       "      <th></th>\n",
       "      <th>Text</th>\n",
       "      <th>Processed_Text</th>\n",
       "    </tr>\n",
       "  </thead>\n",
       "  <tbody>\n",
       "    <tr>\n",
       "      <th>0</th>\n",
       "      <td>A total waste of money, do not buy this.</td>\n",
       "      <td>total waste money buy</td>\n",
       "    </tr>\n",
       "    <tr>\n",
       "      <th>1</th>\n",
       "      <td>I absolutely love this product, it works great!</td>\n",
       "      <td>absolutely love product work great</td>\n",
       "    </tr>\n",
       "    <tr>\n",
       "      <th>2</th>\n",
       "      <td>This was a terrible experience, I regret it co...</td>\n",
       "      <td>terrible experience regret completely</td>\n",
       "    </tr>\n",
       "    <tr>\n",
       "      <th>3</th>\n",
       "      <td>I absolutely love this product, it works great!</td>\n",
       "      <td>absolutely love product work great</td>\n",
       "    </tr>\n",
       "    <tr>\n",
       "      <th>4</th>\n",
       "      <td>The product is average, works as expected.</td>\n",
       "      <td>product average work expected</td>\n",
       "    </tr>\n",
       "  </tbody>\n",
       "</table>\n",
       "</div>"
      ],
      "text/plain": [
       "                                                Text  \\\n",
       "0           A total waste of money, do not buy this.   \n",
       "1    I absolutely love this product, it works great!   \n",
       "2  This was a terrible experience, I regret it co...   \n",
       "3    I absolutely love this product, it works great!   \n",
       "4         The product is average, works as expected.   \n",
       "\n",
       "                          Processed_Text  \n",
       "0                  total waste money buy  \n",
       "1     absolutely love product work great  \n",
       "2  terrible experience regret completely  \n",
       "3     absolutely love product work great  \n",
       "4          product average work expected  "
      ]
     },
     "execution_count": 84,
     "metadata": {},
     "output_type": "execute_result"
    }
   ],
   "source": [
    "df['Processed_Text'] = df['Text'].apply(preprocess_text)\n",
    "df[['Text', 'Processed_Text']].head()\n",
    "\n"
   ]
  },
  {
   "cell_type": "markdown",
   "id": "4cdf2efd-fd4b-4447-8be0-a30b4acf06fb",
   "metadata": {},
   "source": [
    "## Step 3: Perform Sentiment Analysis using NLP\n",
    "### We will now analyze the sentiment using VADER (Valence Aware Dictionary and sEntiment Reasoner)."
   ]
  },
  {
   "cell_type": "code",
   "execution_count": 85,
   "id": "ef78c2c6-4226-487e-8f97-d43e501870d7",
   "metadata": {},
   "outputs": [
    {
     "name": "stderr",
     "output_type": "stream",
     "text": [
      "[nltk_data] Downloading package vader_lexicon to\n",
      "[nltk_data]     C:\\Users\\naman\\AppData\\Roaming\\nltk_data...\n",
      "[nltk_data]   Package vader_lexicon is already up-to-date!\n"
     ]
    }
   ],
   "source": [
    "import nltk\n",
    "from nltk.sentiment import SentimentIntensityAnalyzer\n",
    "nltk.download('vader_lexicon')\n",
    "sia = SentimentIntensityAnalyzer()\n"
   ]
  },
  {
   "cell_type": "code",
   "execution_count": 86,
   "id": "9d335f1b-52b5-4e39-8417-48717284901f",
   "metadata": {},
   "outputs": [
    {
     "data": {
      "text/html": [
       "<div>\n",
       "<style scoped>\n",
       "    .dataframe tbody tr th:only-of-type {\n",
       "        vertical-align: middle;\n",
       "    }\n",
       "\n",
       "    .dataframe tbody tr th {\n",
       "        vertical-align: top;\n",
       "    }\n",
       "\n",
       "    .dataframe thead th {\n",
       "        text-align: right;\n",
       "    }\n",
       "</style>\n",
       "<table border=\"1\" class=\"dataframe\">\n",
       "  <thead>\n",
       "    <tr style=\"text-align: right;\">\n",
       "      <th></th>\n",
       "      <th>Text</th>\n",
       "      <th>Sentiment</th>\n",
       "      <th>Predicted_Sentiment</th>\n",
       "    </tr>\n",
       "  </thead>\n",
       "  <tbody>\n",
       "    <tr>\n",
       "      <th>0</th>\n",
       "      <td>A total waste of money, do not buy this.</td>\n",
       "      <td>Negative</td>\n",
       "      <td>Negative</td>\n",
       "    </tr>\n",
       "    <tr>\n",
       "      <th>1</th>\n",
       "      <td>I absolutely love this product, it works great!</td>\n",
       "      <td>Positive</td>\n",
       "      <td>Positive</td>\n",
       "    </tr>\n",
       "    <tr>\n",
       "      <th>2</th>\n",
       "      <td>This was a terrible experience, I regret it co...</td>\n",
       "      <td>Negative</td>\n",
       "      <td>Negative</td>\n",
       "    </tr>\n",
       "    <tr>\n",
       "      <th>3</th>\n",
       "      <td>I absolutely love this product, it works great!</td>\n",
       "      <td>Positive</td>\n",
       "      <td>Positive</td>\n",
       "    </tr>\n",
       "    <tr>\n",
       "      <th>4</th>\n",
       "      <td>The product is average, works as expected.</td>\n",
       "      <td>Neutral</td>\n",
       "      <td>Neutral</td>\n",
       "    </tr>\n",
       "  </tbody>\n",
       "</table>\n",
       "</div>"
      ],
      "text/plain": [
       "                                                Text Sentiment  \\\n",
       "0           A total waste of money, do not buy this.  Negative   \n",
       "1    I absolutely love this product, it works great!  Positive   \n",
       "2  This was a terrible experience, I regret it co...  Negative   \n",
       "3    I absolutely love this product, it works great!  Positive   \n",
       "4         The product is average, works as expected.   Neutral   \n",
       "\n",
       "  Predicted_Sentiment  \n",
       "0            Negative  \n",
       "1            Positive  \n",
       "2            Negative  \n",
       "3            Positive  \n",
       "4             Neutral  "
      ]
     },
     "execution_count": 86,
     "metadata": {},
     "output_type": "execute_result"
    }
   ],
   "source": [
    "def get_sentiment(text):\n",
    "    score = sia.polarity_scores(text)\n",
    "    if score['compound'] >= 0.05:\n",
    "        return \"Positive\"\n",
    "    elif score['compound'] <= -0.05:\n",
    "        return \"Negative\"\n",
    "    else:\n",
    "        return \"Neutral\"\n",
    "\n",
    "# Apply sentiment analysis\n",
    "df['Predicted_Sentiment'] = df['Processed_Text'].apply(get_sentiment)\n",
    "\n",
    "# Compare actual vs predicted sentiment\n",
    "df[['Text', 'Sentiment', 'Predicted_Sentiment']].head()\n"
   ]
  },
  {
   "cell_type": "code",
   "execution_count": null,
   "id": "1283daa5-641d-4e40-bd02-24e5c36c88ab",
   "metadata": {},
   "outputs": [],
   "source": []
  },
  {
   "cell_type": "markdown",
   "id": "4795b6d2-3a25-442b-a993-c19846d16660",
   "metadata": {},
   "source": [
    "\n",
    "## Step 4: Build an Interactive Dashboard with Dash\n",
    "## Now, we will create an attractive dashboard using Dash to visualize the sentiment analysis results."
   ]
  },
  {
   "cell_type": "code",
   "execution_count": 95,
   "id": "256fcb61-72c6-4fe4-b2d7-dcdcf7624ae1",
   "metadata": {},
   "outputs": [],
   "source": [
    "import dash\n",
    "from dash import dcc, html, dash_table  # Import dash_table correctly\n",
    "from dash.dependencies import Input, Output\n",
    "import plotly.express as px\n",
    "import pandas as pd\n"
   ]
  },
  {
   "cell_type": "code",
   "execution_count": 96,
   "id": "49434d8c-6664-4fa7-8b39-6d4f5dd6a186",
   "metadata": {},
   "outputs": [
    {
     "data": {
      "text/html": [
       "\n",
       "        <iframe\n",
       "            width=\"100%\"\n",
       "            height=\"650\"\n",
       "            src=\"http://127.0.0.1:8050/\"\n",
       "            frameborder=\"0\"\n",
       "            allowfullscreen\n",
       "            \n",
       "        ></iframe>\n",
       "        "
      ],
      "text/plain": [
       "<IPython.lib.display.IFrame at 0x14cf537d190>"
      ]
     },
     "metadata": {},
     "output_type": "display_data"
    }
   ],
   "source": [
    "df = pd.DataFrame({\n",
    "    'Text': ['Great product!', 'Terrible experience.', 'It’s okay.', 'Loved it!', 'Not good'],\n",
    "    'Predicted_Sentiment': ['Positive', 'Negative', 'Neutral', 'Positive', 'Negative']\n",
    "})\n",
    "\n",
    "app = dash.Dash(__name__)\n",
    "\n",
    "app.layout = html.Div([\n",
    "    html.H1(\"Sentiment Analysis Dashboard\", style={\n",
    "        'textAlign': 'center',\n",
    "        'color': '#1e3799',\n",
    "        'fontSize': '32px',\n",
    "        'textShadow': '2px 2px 4px #aaa',\n",
    "        'marginBottom': '20px'\n",
    "    }),\n",
    "\n",
    "    dcc.Dropdown(\n",
    "        id='sentiment-dropdown',\n",
    "        options=[\n",
    "            {'label': 'All', 'value': 'All'},\n",
    "            {'label': 'Positive', 'value': 'Positive'},\n",
    "            {'label': 'Negative', 'value': 'Negative'},\n",
    "            {'label': 'Neutral', 'value': 'Neutral'}\n",
    "        ],\n",
    "        value='All',\n",
    "        multi=False,\n",
    "        style={'width': '50%', 'margin': '0 auto 20px'}\n",
    "    ),\n",
    "\n",
    "    dcc.Graph(id='sentiment-graph'),\n",
    "\n",
    "    html.H3(\"Sample Sentiment Reviews\", style={'color': '#1e3799', 'marginTop': '20px'}),\n",
    "    \n",
    "    dash_table.DataTable(\n",
    "        id='review-table',\n",
    "        columns=[\n",
    "            {'name': 'Text', 'id': 'Text'},\n",
    "            {'name': 'Predicted Sentiment', 'id': 'Predicted_Sentiment'}\n",
    "        ],\n",
    "        style_table={'width': '80%', 'margin': '0 auto'},\n",
    "        style_header={'backgroundColor': '#1e3799', 'color': 'white', 'fontWeight': 'bold'},\n",
    "        style_cell={'textAlign': 'center', 'padding': '10px', 'fontSize': '16px'}\n",
    "    )\n",
    "])\n",
    "\n",
    "@app.callback(\n",
    "    [Output('sentiment-graph', 'figure'), Output('review-table', 'data')],\n",
    "    [Input('sentiment-dropdown', 'value')]\n",
    ")\n",
    "def update_dashboard(selected_sentiment):\n",
    "    filtered_df = df if selected_sentiment == \"All\" else df[df[\"Predicted_Sentiment\"] == selected_sentiment]\n",
    "\n",
    "    # If the filtered DataFrame is empty, return an empty graph\n",
    "    if filtered_df.empty:\n",
    "        fig = px.histogram(title=\"No data available for the selected sentiment\")\n",
    "    else:\n",
    "        fig = px.histogram(filtered_df, x='Predicted_Sentiment', title=\"Sentiment Distribution\",\n",
    "                           color='Predicted_Sentiment', category_orders={\"Predicted_Sentiment\": [\"Positive\", \"Negative\", \"Neutral\"]})\n",
    "        fig.update_layout(template='plotly_white', title_x=0.5)\n",
    "\n",
    "    # Convert filtered data to a format suitable for DataTable\n",
    "    table_data = filtered_df.to_dict('records') if not filtered_df.empty else [{'Text': 'No data available', 'Predicted_Sentiment': ''}]\n",
    "\n",
    "    return fig, table_data\n",
    "\n",
    "if __name__ == '__main__':\n",
    "    app.run(debug=True)"
   ]
  },
  {
   "cell_type": "markdown",
   "id": "37616d46-abb3-4a69-a48b-6df069483449",
   "metadata": {},
   "source": [
    "📊 Sentiment Analysis Dashboard - Conclusion\n",
    "Overview\n",
    "The Sentiment Analysis Dashboard provides a dynamic way to visualize and analyze textual sentiment data. It allows users to filter and explore sentiments (Positive, Negative, Neutral) through interactive graphs and tabular data.\n",
    "\n",
    "Key Features & Insights\n",
    "Sentiment Distribution Graph\n",
    "\n",
    "Displays the frequency of each sentiment category (Positive, Negative, Neutral).\n",
    "Helps in understanding the overall sentiment trend in the dataset.\n",
    "Uses color coding for better visualization.\n",
    "Sample Sentiment Reviews Table\n",
    "\n",
    "Shows a tabular representation of reviews with their predicted sentiment.\n",
    "Enables quick validation of sentiment classification accuracy.\n",
    "Updates dynamically based on the selected sentiment filter.\n",
    "Dropdown-Based Filtering\n",
    "\n",
    "Users can select a specific sentiment category or view all data at once.\n",
    "Provides flexibility in data exploration and trend identification.\n",
    "Final Conclusion\n",
    "The dashboard successfully categorizes and visualizes sentiment data, making it easier to interpret trends.\n",
    "It helps in understanding how user reviews are distributed across different sentiment classes.\n",
    "Can be expanded further with additional features like sentiment confidence scores, word clouds, and AI-driven insights."
   ]
  },
  {
   "cell_type": "code",
   "execution_count": null,
   "id": "228aa6ee-618a-4357-b268-8b0d629ab090",
   "metadata": {},
   "outputs": [],
   "source": []
  }
 ],
 "metadata": {
  "kernelspec": {
   "display_name": "Python 3 (ipykernel)",
   "language": "python",
   "name": "python3"
  },
  "language_info": {
   "codemirror_mode": {
    "name": "ipython",
    "version": 3
   },
   "file_extension": ".py",
   "mimetype": "text/x-python",
   "name": "python",
   "nbconvert_exporter": "python",
   "pygments_lexer": "ipython3",
   "version": "3.12.7"
  }
 },
 "nbformat": 4,
 "nbformat_minor": 5
}
